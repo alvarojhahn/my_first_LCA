{
 "cells": [
  {
   "cell_type": "code",
   "execution_count": 15,
   "id": "ca0b4edb",
   "metadata": {},
   "outputs": [],
   "source": [
    "import brightway25 as bw\n",
    "import bw2io as bi \n",
    "import bw2data as bd \n",
    "import bw2calc as bc "
   ]
  },
  {
   "cell_type": "code",
   "execution_count": 16,
   "id": "6ffa3611",
   "metadata": {},
   "outputs": [],
   "source": [
    "# to import forwast\n",
    "import os\n",
    "import zipfile\n",
    "from bw2data.utils import download_file"
   ]
  },
  {
   "cell_type": "code",
   "execution_count": 4,
   "id": "de5475da-ac7d-4abe-afaa-884e4f576872",
   "metadata": {},
   "outputs": [
    {
     "ename": "ModuleNotFoundError",
     "evalue": "No module named 'premise'",
     "output_type": "error",
     "traceback": [
      "\u001b[1;31m---------------------------------------------------------------------------\u001b[0m",
      "\u001b[1;31mModuleNotFoundError\u001b[0m                       Traceback (most recent call last)",
      "Cell \u001b[1;32mIn[4], line 1\u001b[0m\n\u001b[1;32m----> 1\u001b[0m \u001b[38;5;28;01mfrom\u001b[39;00m \u001b[38;5;21;01mpremise\u001b[39;00m \u001b[38;5;28;01mimport\u001b[39;00m \u001b[38;5;241m*\u001b[39m\n",
      "\u001b[1;31mModuleNotFoundError\u001b[0m: No module named 'premise'"
     ]
    }
   ],
   "source": [
    "from premise import *"
   ]
  },
  {
   "cell_type": "markdown",
   "id": "d3f444eb-c0bc-4bf1-8dab-554ae59fca14",
   "metadata": {},
   "source": [
    "## This notebook"
   ]
  },
  {
   "cell_type": "markdown",
   "id": "2164ed63-2caf-41fe-afe9-b3894e2044c0",
   "metadata": {},
   "source": [
    "The objective of this notebook is to demonstrate how to solve the \"My First LCA\" exercise from the ESA course using the Brightway and ActivityBrowser tools. Additionally, it provides supplementary information on these tools.\n",
    "\n",
    "- Author (and contact):\n",
    "    - Alvaro Hahn (alvaro.hahn-menacho@psi.ch)\n"
   ]
  },
  {
   "cell_type": "markdown",
   "id": "2f7c22be-e46d-4f71-828f-87f3ba39fb0d",
   "metadata": {},
   "source": [
    "### Useful material"
   ]
  },
  {
   "cell_type": "markdown",
   "id": "a31024c1-5081-4bf1-96a1-a6442e3f01f7",
   "metadata": {},
   "source": [
    "1. General info on how to use Brightway:\n",
    "   - https://docs.brightway.dev/en/latest/content/examples/brightway-examples/data_import/ecoinvent_import.html\n",
    "   - https://docs.brightway.dev/en/legacy/\n",
    "3. General info on Activity-Browser:\n",
    "   - https://github.com/LCA-ActivityBrowser/activity-browser\n",
    "   - https://www.youtube.com/@activity-browser\n",
    "4. Interested in prospective LCA 🧐:\n",
    "   - https://github.com/polca/premise"
   ]
  },
  {
   "cell_type": "markdown",
   "id": "4904ab7d",
   "metadata": {},
   "source": [
    "### 1. Set project and create biosphere"
   ]
  },
  {
   "cell_type": "code",
   "execution_count": 24,
   "id": "7b44ae46",
   "metadata": {
    "scrolled": true
   },
   "outputs": [
    {
     "name": "stdout",
     "output_type": "stream",
     "text": [
      "Biosphere database already present!!! No setup is needed\n"
     ]
    },
    {
     "data": {
      "text/plain": [
       "Databases dictionary with 1 object(s):\n",
       "\tbiosphere3"
      ]
     },
     "execution_count": 24,
     "metadata": {},
     "output_type": "execute_result"
    }
   ],
   "source": [
    "bd.projects.set_current(\"myfirstLCA\") #Creating/accessing the project\n",
    "bi.bw2setup() #Importing elementary flows, LCIA methods and some other data\n",
    "bd.databases "
   ]
  },
  {
   "cell_type": "markdown",
   "id": "d68e503e",
   "metadata": {},
   "source": [
    "## 2. Import forwast database (and ecoinvent)"
   ]
  },
  {
   "cell_type": "code",
   "execution_count": 26,
   "id": "8fa54553",
   "metadata": {
    "scrolled": true
   },
   "outputs": [
    {
     "ename": "NameError",
     "evalue": "name 'BW2Package' is not defined",
     "output_type": "error",
     "traceback": [
      "\u001b[0;31m---------------------------------------------------------------------------\u001b[0m",
      "\u001b[0;31mNameError\u001b[0m                                 Traceback (most recent call last)",
      "Cell \u001b[0;32mIn[26], line 9\u001b[0m\n\u001b[1;32m      7\u001b[0m dirpath \u001b[38;5;241m=\u001b[39m os\u001b[38;5;241m.\u001b[39mpath\u001b[38;5;241m.\u001b[39mdirname(filepath)\n\u001b[1;32m      8\u001b[0m zipfile\u001b[38;5;241m.\u001b[39mZipFile(filepath)\u001b[38;5;241m.\u001b[39mextractall(dirpath)\n\u001b[0;32m----> 9\u001b[0m \u001b[43mBW2Package\u001b[49m\u001b[38;5;241m.\u001b[39mimport_file(os\u001b[38;5;241m.\u001b[39mpath\u001b[38;5;241m.\u001b[39mjoin(dirpath, \u001b[38;5;124m\"\u001b[39m\u001b[38;5;124mforwast.bw2package\u001b[39m\u001b[38;5;124m\"\u001b[39m))\n",
      "\u001b[0;31mNameError\u001b[0m: name 'BW2Package' is not defined"
     ]
    }
   ],
   "source": []
  },
  {
   "cell_type": "code",
   "execution_count": 38,
   "id": "3ec21ebf",
   "metadata": {},
   "outputs": [
    {
     "name": "stdout",
     "output_type": "stream",
     "text": [
      "Extracting XML data from 21238 datasets\n",
      "Extracted 21238 datasets in 31.43 seconds\n",
      "Applying strategy: normalize_units\n",
      "Applying strategy: update_ecoinvent_locations\n",
      "Applying strategy: remove_zero_amount_coproducts\n",
      "Applying strategy: remove_zero_amount_inputs_with_no_activity\n",
      "Applying strategy: remove_unnamed_parameters\n",
      "Applying strategy: es2_assign_only_product_with_amount_as_reference_product\n",
      "Applying strategy: assign_single_product_as_activity\n",
      "Applying strategy: create_composite_code\n",
      "Applying strategy: drop_unspecified_subcategories\n",
      "Applying strategy: fix_ecoinvent_flows_pre35\n",
      "Applying strategy: drop_temporary_outdated_biosphere_flows\n",
      "Applying strategy: link_biosphere_by_flow_uuid\n",
      "Applying strategy: link_internal_technosphere_by_composite_code\n",
      "Applying strategy: delete_exchanges_missing_activity\n",
      "Applying strategy: delete_ghost_exchanges\n",
      "Applying strategy: remove_uncertainty_from_negative_loss_exchanges\n",
      "Applying strategy: fix_unreasonably_high_lognormal_uncertainties\n",
      "Applying strategy: convert_activity_parameters_to_list\n",
      "Applying strategy: add_cpc_classification_from_single_reference_product\n",
      "Applying strategy: delete_none_synonyms\n",
      "Applying strategy: update_social_flows_in_older_consequential\n",
      "Applying strategy: set_lognormal_loc_value\n",
      "Applied 22 strategies in 4.66 seconds\n",
      "21238 datasets\n",
      "674593 exchanges\n",
      "0 unlinked exchanges\n",
      "  \n",
      "Not able to determine geocollections for all datasets. This database is not ready for regionalization.\n"
     ]
    },
    {
     "name": "stderr",
     "output_type": "stream",
     "text": [
      "100%|████████████████████████████████████| 21238/21238 [00:31<00:00, 672.79it/s]\n"
     ]
    },
    {
     "name": "stdout",
     "output_type": "stream",
     "text": [
      "Vacuuming database \n",
      "Created database: ecoinvent 3.9.1 cutoff\n"
     ]
    }
   ],
   "source": [
    "ei_path = \"/Users/hannegoericke/Documents/Ecoinvent/ecoinvent 3.9.1_cutoff_ecoSpold02/datasets\"\n",
    "\n",
    "\n",
    "#ecoinvent\n",
    "if 'ecoinvent 3.9.1 cutoff' in bd.databases:\n",
    "    print(\"Database has already been imported.\")\n",
    "else:\n",
    "    ei39cut = bi.SingleOutputEcospold2Importer(ei_path, 'ecoinvent 3.9.1 cutoff')\n",
    "    ei39cut\n",
    "    ei39cut.apply_strategies()\n",
    "    ei39cut.statistics()\n",
    "    ei39cut.write_database()"
   ]
  },
  {
   "cell_type": "code",
   "execution_count": 44,
   "id": "4b3f67bd",
   "metadata": {},
   "outputs": [
    {
     "data": {
      "text/plain": [
       "Databases dictionary with 2 object(s):\n",
       "\tbiosphere3\n",
       "\tecoinvent 3.9.1 cutoff"
      ]
     },
     "execution_count": 44,
     "metadata": {},
     "output_type": "execute_result"
    }
   ],
   "source": [
    "bd.databases"
   ]
  },
  {
   "cell_type": "markdown",
   "id": "976f9959",
   "metadata": {},
   "source": [
    "## 3. Import Excel database"
   ]
  },
  {
   "cell_type": "code",
   "execution_count": 42,
   "id": "b7c0f8b2",
   "metadata": {},
   "outputs": [
    {
     "name": "stdout",
     "output_type": "stream",
     "text": [
      "Extracted 1 worksheets in 0.05 seconds\n",
      "Applying strategy: csv_restore_tuples\n",
      "Applying strategy: csv_restore_booleans\n",
      "Applying strategy: csv_numerize\n",
      "Applying strategy: csv_drop_unknown\n",
      "Applying strategy: csv_add_missing_exchanges_section\n",
      "Applying strategy: normalize_units\n",
      "Applying strategy: normalize_biosphere_categories\n",
      "Applying strategy: normalize_biosphere_names\n",
      "Applying strategy: strip_biosphere_exc_locations\n",
      "Applying strategy: set_code_by_activity_hash\n",
      "Applying strategy: link_iterable_by_fields\n",
      "Applying strategy: assign_only_product_as_production\n",
      "Applying strategy: link_technosphere_by_activity_hash\n",
      "Applying strategy: drop_falsey_uncertainty_fields_but_keep_zeros\n",
      "Applying strategy: convert_uncertainty_types_to_integers\n",
      "Applying strategy: convert_activity_parameters_to_list\n",
      "Applied 16 strategies in 6.81 seconds\n",
      "Applying strategy: link_iterable_by_fields\n",
      "Applying strategy: link_iterable_by_fields\n",
      "8 datasets\n",
      "27 exchanges\n",
      "0 unlinked exchanges\n",
      "  \n"
     ]
    },
    {
     "data": {
      "text/plain": [
       "(8, 27, 0)"
      ]
     },
     "execution_count": 42,
     "metadata": {},
     "output_type": "execute_result"
    }
   ],
   "source": [
    "imp = bi.ExcelImporter(os.path.join(\"data/LCI_cars.xlsx\"))\n",
    "imp.apply_strategies()\n",
    "imp.match_database(fields=('name', 'unit', 'location'))\n",
    "imp.match_database(\"ecoinvent 3.9.1 cutoff\", fields=('name', 'unit', 'location'))\n",
    "imp.statistics()"
   ]
  },
  {
   "cell_type": "markdown",
   "id": "98e9960a-3f79-4641-b340-1c4ed2f1c2da",
   "metadata": {},
   "source": [
    "### ⚠️ Warning: It is key to have 0 unlinked exchanges. Otherwise, it will not be possible to solve the system."
   ]
  },
  {
   "cell_type": "markdown",
   "id": "ad8dea12-7e92-40d1-a458-635894c6e748",
   "metadata": {},
   "source": [
    "#### Only once we have 0 unliked exchanges we write our database. What if we need to troubleshoot? We run:"
   ]
  },
  {
   "cell_type": "code",
   "execution_count": null,
   "id": "fc860f9b-c4fb-41af-89f6-d9b34024c7a6",
   "metadata": {},
   "outputs": [],
   "source": [
    "# imp.write_excel()"
   ]
  },
  {
   "cell_type": "code",
   "execution_count": 45,
   "id": "987e9444",
   "metadata": {},
   "outputs": [
    {
     "name": "stderr",
     "output_type": "stream",
     "text": [
      "100%|██████████████████████████████████████████| 8/8 [00:00<00:00, 10321.26it/s]\n"
     ]
    },
    {
     "name": "stdout",
     "output_type": "stream",
     "text": [
      "Vacuuming database \n",
      "Created database: esa_exercise\n"
     ]
    }
   ],
   "source": [
    "imp.write_database()"
   ]
  },
  {
   "cell_type": "code",
   "execution_count": 56,
   "id": "9199c358-b9ec-4216-8b7a-02c521f8ab34",
   "metadata": {},
   "outputs": [
    {
     "data": {
      "text/plain": [
       "Databases dictionary with 3 object(s):\n",
       "\tbiosphere3\n",
       "\tecoinvent 3.9.1 cutoff\n",
       "\tesa_exercise"
      ]
     },
     "execution_count": 56,
     "metadata": {},
     "output_type": "execute_result"
    }
   ],
   "source": [
    "bd.databases"
   ]
  },
  {
   "cell_type": "markdown",
   "id": "2112a8a4",
   "metadata": {},
   "source": [
    "## 4. Exploring the database"
   ]
  },
  {
   "cell_type": "code",
   "execution_count": 58,
   "id": "7e037aba",
   "metadata": {},
   "outputs": [
    {
     "name": "stdout",
     "output_type": "stream",
     "text": [
      "'power generation' (kilowatt hour, CH, None)\n",
      "'driving the ICEV' (kilometer, CH, None)\n",
      "'EV production' (unit, CH, None)\n",
      "'ICEV production' (unit, CH, None)\n",
      "'natural gas supply' (cubic meter, CH, None)\n",
      "'diesel supply' (liter, CH, None)\n",
      "'driving the EV' (kilometer, CH, None)\n",
      "'battery manufacturing' (unit, CH, None)\n"
     ]
    }
   ],
   "source": [
    "wbi = bd.Database(\"esa_exercise\")\n",
    "for act in wbi:\n",
    "    print(act)"
   ]
  },
  {
   "cell_type": "code",
   "execution_count": 59,
   "id": "4dd0f9b9",
   "metadata": {},
   "outputs": [
    {
     "name": "stdout",
     "output_type": "stream",
     "text": [
      "('CML v4.8 2016', 'climate change', 'global warming potential (GWP100)')\n",
      "('Ecological Scarcity 2021', 'climate change', 'global warming potential (GWP100)')\n",
      "('EF v3.0', 'climate change', 'global warming potential (GWP100)')\n",
      "('EF v3.1', 'climate change', 'global warming potential (GWP100)')\n",
      "('IMPACT 2002+ (Endpoint)', 'climate change', 'climate change')\n",
      "('IMPACT 2002+ (Endpoint)', 'climate change', 'total')\n",
      "('IPCC 2013', 'climate change', 'global temperature change potential (GTP100)')\n",
      "('IPCC 2013', 'climate change', 'global temperature change potential (GTP20)')\n",
      "('IPCC 2013', 'climate change', 'global warming potential (GWP100)')\n",
      "('IPCC 2013', 'climate change', 'global warming potential (GWP20)')\n",
      "('IPCC 2021', 'climate change', 'global temperature change potential (GTP100)')\n",
      "('IPCC 2021', 'climate change', 'global temperature change potential (GTP50)')\n",
      "('IPCC 2021', 'climate change', 'global warming potential (GWP100)')\n",
      "('IPCC 2021', 'climate change', 'global warming potential (GWP20)')\n",
      "('IPCC 2021', 'climate change', 'global warming potential (GWP500)')\n",
      "('ReCiPe 2016 v1.03, midpoint (E)', 'climate change', 'global warming potential (GWP1000)')\n",
      "('ReCiPe 2016 v1.03, midpoint (H)', 'climate change', 'global warming potential (GWP1000)')\n",
      "('ReCiPe 2016 v1.03, midpoint (I)', 'climate change', 'global warming potential (GWP1000)')\n",
      "('TRACI v2.1', 'climate change', 'global warming potential (GWP100)')\n",
      "('EF v3.0 EN15804', 'climate change', 'global warming potential (GWP100)')\n",
      "('EF v3.1 EN15804', 'climate change', 'global warming potential (GWP100)')\n"
     ]
    }
   ],
   "source": [
    "for key in bd.methods:\n",
    "   if 'climate change' in key:\n",
    "       print(key)"
   ]
  },
  {
   "cell_type": "markdown",
   "id": "b3983e45",
   "metadata": {},
   "source": [
    "## 5. LCA"
   ]
  },
  {
   "cell_type": "markdown",
   "id": "d2639c46-8dbc-46b9-9c27-743d1423eb33",
   "metadata": {},
   "source": [
    "#### Goal and scope"
   ]
  },
  {
   "cell_type": "code",
   "execution_count": 60,
   "id": "d3a6e7ae-71e8-4026-86f8-0bcf6b0e3ba4",
   "metadata": {},
   "outputs": [
    {
     "data": {
      "text/plain": [
       "{'driving the EV' (kilometer, CH, None): 100}"
      ]
     },
     "execution_count": 60,
     "metadata": {},
     "output_type": "execute_result"
    }
   ],
   "source": [
    "# functional unit (driving 100km with each vehicle alternative)\n",
    "ev_driving = [act for act in wbi if 'driving the EV' in act['name'] and 'CH' in act['location']][0]\n",
    "functional_unit_EV = {ev_driving:100}\n",
    "functional_unit_EV"
   ]
  },
  {
   "cell_type": "code",
   "execution_count": 61,
   "id": "cc2c3065-5a77-4baf-b856-fc814cd5c41e",
   "metadata": {},
   "outputs": [
    {
     "data": {
      "text/plain": [
       "{'driving the ICEV' (kilometer, CH, None): 100}"
      ]
     },
     "execution_count": 61,
     "metadata": {},
     "output_type": "execute_result"
    }
   ],
   "source": [
    "icev_driving = [act for act in wbi if 'driving the ICEV' in act['name'] and 'CH' in act['location']][0]\n",
    "functional_unit_icev = {icev_driving:100}\n",
    "functional_unit_icev"
   ]
  },
  {
   "cell_type": "code",
   "execution_count": 64,
   "id": "d207ee41-524d-4523-a33c-63c7b6a9a51e",
   "metadata": {},
   "outputs": [
    {
     "data": {
      "text/plain": [
       "('EF v3.0 no LT',\n",
       " 'climate change no LT',\n",
       " 'global warming potential (GWP100) no LT')"
      ]
     },
     "execution_count": 64,
     "metadata": {},
     "output_type": "execute_result"
    }
   ],
   "source": [
    "# Method: let's select EF3.0\n",
    "CC_method = [m for m in bd.methods if 'EF v3.0' in str(m) and  'climate change' in str(m) and 'global warming potential (GWP100)' in str(m)][0]\n",
    "CC_method"
   ]
  },
  {
   "cell_type": "markdown",
   "id": "604a2a7b-398d-44fb-a309-6ab02d5fcb00",
   "metadata": {},
   "source": [
    "#### LCI + LCIA"
   ]
  },
  {
   "cell_type": "code",
   "execution_count": 69,
   "id": "7544fa06-468f-47f8-9f93-e48b3cfe3c5c",
   "metadata": {},
   "outputs": [
    {
     "data": {
      "text/plain": [
       "11.232424827019543"
      ]
     },
     "execution_count": 69,
     "metadata": {},
     "output_type": "execute_result"
    }
   ],
   "source": [
    "lca_ev = bc.LCA(functional_unit_EV,CC_method)\n",
    "lca_ev.lci()\n",
    "lca_ev.lcia()\n",
    "lca_ev.score"
   ]
  },
  {
   "cell_type": "code",
   "execution_count": 70,
   "id": "a685e7f2-4bf9-4155-a73c-bef4a977854a",
   "metadata": {},
   "outputs": [
    {
     "data": {
      "text/plain": [
       "24.750991772952766"
      ]
     },
     "execution_count": 70,
     "metadata": {},
     "output_type": "execute_result"
    }
   ],
   "source": [
    "lca_icev = bc.LCA(functional_unit_icev,CC_method)\n",
    "lca_icev.lci()\n",
    "lca_icev.lcia()\n",
    "lca_icev.score"
   ]
  },
  {
   "cell_type": "markdown",
   "id": "c3411f8d-c60d-4785-ac46-ac500e01ad52",
   "metadata": {},
   "source": [
    "#### Interpretation"
   ]
  },
  {
   "cell_type": "code",
   "execution_count": 71,
   "id": "84f7c533-7809-4c24-a830-b6f522edb17b",
   "metadata": {},
   "outputs": [
    {
     "name": "stdout",
     "output_type": "stream",
     "text": [
      "- Driving 100km using an electric car yields an impact of : 11.23 kgCO2eq\n",
      "- Driving 100km using a diesel car yields an impact of : 24.75 kgCO2eq\n",
      "- Choosing an electric vehicle is the better alternative for climate change mitigation, resulting in a 54.62% reduction in impact compared to an internal combustion engine vehicle.\n"
     ]
    }
   ],
   "source": [
    "print('- Driving 100km using an electric car yields an impact of : {:.2f} kgCO2eq'.format(lca_ev.score))\n",
    "print('- Driving 100km using a diesel car yields an impact of : {:.2f} kgCO2eq'.format(lca_icev.score))\n",
    "if lca_ev.score < lca_icev.score:\n",
    "    print('- Choosing an electric vehicle is the better alternative for climate change mitigation, resulting in a {:.2f}% reduction in impact compared to an internal combustion engine vehicle.'\n",
    "          .format((lca_icev.score - lca_ev.score) / lca_icev.score * 100))\n",
    "else:\n",
    "    print('- Choosing an internal combustion engine vehicle is the better alternative for climate change mitigation, resulting in a {:.2f}% reduction in impact compared to an electric vehicle.'\n",
    "          .format((lca_ev.score - lca_icev.score) / lca_ev.score * 100))"
   ]
  },
  {
   "cell_type": "markdown",
   "id": "49837087-f676-4d41-b0cf-ac44841657a2",
   "metadata": {},
   "source": [
    "## 6. Prospective LCA"
   ]
  },
  {
   "cell_type": "markdown",
   "id": "1eda321c-8102-420b-811d-8afaf569213e",
   "metadata": {},
   "source": [
    "Here comes premise"
   ]
  },
  {
   "cell_type": "markdown",
   "id": "143bf6dc-4bdb-4778-b35d-18bfe7a89a6c",
   "metadata": {},
   "source": [
    "Upon the database extraction, you can import some of your Brightway2-compatible inventories like so:"
   ]
  },
  {
   "cell_type": "code",
   "execution_count": 72,
   "id": "ae66a066-c7d2-4392-ac7e-5fd12f6044ca",
   "metadata": {},
   "outputs": [
    {
     "ename": "NameError",
     "evalue": "name 'clear_cache' is not defined",
     "output_type": "error",
     "traceback": [
      "\u001b[0;31m---------------------------------------------------------------------------\u001b[0m",
      "\u001b[0;31mNameError\u001b[0m                                 Traceback (most recent call last)",
      "Cell \u001b[0;32mIn[72], line 1\u001b[0m\n\u001b[0;32m----> 1\u001b[0m \u001b[43mclear_cache\u001b[49m()\n",
      "\u001b[0;31mNameError\u001b[0m: name 'clear_cache' is not defined"
     ]
    }
   ],
   "source": [
    "clear_cache()"
   ]
  },
  {
   "cell_type": "code",
   "execution_count": 73,
   "id": "4aa88bf4-c4c5-4fa6-89f7-85020773b4bd",
   "metadata": {},
   "outputs": [
    {
     "ename": "NameError",
     "evalue": "name 'NewDatabase' is not defined",
     "output_type": "error",
     "traceback": [
      "\u001b[0;31m---------------------------------------------------------------------------\u001b[0m",
      "\u001b[0;31mNameError\u001b[0m                                 Traceback (most recent call last)",
      "Cell \u001b[0;32mIn[73], line 1\u001b[0m\n\u001b[0;32m----> 1\u001b[0m ndb \u001b[38;5;241m=\u001b[39m \u001b[43mNewDatabase\u001b[49m(\n\u001b[1;32m      2\u001b[0m             scenarios\u001b[38;5;241m=\u001b[39m[\n\u001b[1;32m      3\u001b[0m                 {\u001b[38;5;124m\"\u001b[39m\u001b[38;5;124mmodel\u001b[39m\u001b[38;5;124m\"\u001b[39m:\u001b[38;5;124m\"\u001b[39m\u001b[38;5;124mremind\u001b[39m\u001b[38;5;124m\"\u001b[39m, \u001b[38;5;124m\"\u001b[39m\u001b[38;5;124mpathway\u001b[39m\u001b[38;5;124m\"\u001b[39m:\u001b[38;5;124m\"\u001b[39m\u001b[38;5;124mSSP2-Base\u001b[39m\u001b[38;5;124m\"\u001b[39m, \u001b[38;5;124m\"\u001b[39m\u001b[38;5;124myear\u001b[39m\u001b[38;5;124m\"\u001b[39m:\u001b[38;5;241m2050\u001b[39m},\n\u001b[1;32m      4\u001b[0m                 {\u001b[38;5;124m\"\u001b[39m\u001b[38;5;124mmodel\u001b[39m\u001b[38;5;124m\"\u001b[39m:\u001b[38;5;124m\"\u001b[39m\u001b[38;5;124mremind\u001b[39m\u001b[38;5;124m\"\u001b[39m, \u001b[38;5;124m\"\u001b[39m\u001b[38;5;124mpathway\u001b[39m\u001b[38;5;124m\"\u001b[39m:\u001b[38;5;124m\"\u001b[39m\u001b[38;5;124mSSP2-PkBudg500\u001b[39m\u001b[38;5;124m\"\u001b[39m, \u001b[38;5;124m\"\u001b[39m\u001b[38;5;124myear\u001b[39m\u001b[38;5;124m\"\u001b[39m:\u001b[38;5;241m2050\u001b[39m},\n\u001b[1;32m      5\u001b[0m             ],\n\u001b[1;32m      6\u001b[0m             source_db\u001b[38;5;241m=\u001b[39m\u001b[38;5;124m\"\u001b[39m\u001b[38;5;124mecoinvent 3.9.1 cutoff\u001b[39m\u001b[38;5;124m\"\u001b[39m, \n\u001b[1;32m      7\u001b[0m             source_version\u001b[38;5;241m=\u001b[39m\u001b[38;5;124m\"\u001b[39m\u001b[38;5;124m3.9.1\u001b[39m\u001b[38;5;124m\"\u001b[39m,\n\u001b[1;32m      8\u001b[0m             key\u001b[38;5;241m=\u001b[39m\u001b[38;5;124m'\u001b[39m\u001b[38;5;124mtUePmX_S5B8ieZkkM7WUU2CnO8SmShwmAeWK9x2rTFo=\u001b[39m\u001b[38;5;124m'\u001b[39m,\n\u001b[1;32m      9\u001b[0m             additional_inventories\u001b[38;5;241m=\u001b[39m [ \u001b[38;5;66;03m# <-- this is NEW\u001b[39;00m\n\u001b[1;32m     10\u001b[0m                 {\u001b[38;5;124m\"\u001b[39m\u001b[38;5;124mfilepath\u001b[39m\u001b[38;5;124m\"\u001b[39m: \u001b[38;5;124mr\u001b[39m\u001b[38;5;124m\"\u001b[39m\u001b[38;5;124mC:\u001b[39m\u001b[38;5;124m\\\u001b[39m\u001b[38;5;124mUsers\u001b[39m\u001b[38;5;124m\\\u001b[39m\u001b[38;5;124mhahnme_a\u001b[39m\u001b[38;5;124m\\\u001b[39m\u001b[38;5;124mDesktop\u001b[39m\u001b[38;5;124m\\\u001b[39m\u001b[38;5;124mETH\u001b[39m\u001b[38;5;124m\\\u001b[39m\u001b[38;5;124mTeaching LCA\u001b[39m\u001b[38;5;124m\\\u001b[39m\u001b[38;5;124mAnna\u001b[39m\u001b[38;5;124m\\\u001b[39m\u001b[38;5;124mpLCA_test.xlsx\u001b[39m\u001b[38;5;124m\"\u001b[39m, \u001b[38;5;124m\"\u001b[39m\u001b[38;5;124mecoinvent version\u001b[39m\u001b[38;5;124m\"\u001b[39m: \u001b[38;5;124m\"\u001b[39m\u001b[38;5;124m3.9.1\u001b[39m\u001b[38;5;124m\"\u001b[39m}, \u001b[38;5;66;03m# <-- this is NEW\u001b[39;00m\n\u001b[1;32m     11\u001b[0m             ] \u001b[38;5;66;03m# <-- this is NEW\u001b[39;00m\n\u001b[1;32m     12\u001b[0m                  )\n",
      "\u001b[0;31mNameError\u001b[0m: name 'NewDatabase' is not defined"
     ]
    }
   ],
   "source": [
    "ndb = NewDatabase(\n",
    "            scenarios=[\n",
    "                {\"model\":\"remind\", \"pathway\":\"SSP2-Base\", \"year\":2050},\n",
    "                {\"model\":\"remind\", \"pathway\":\"SSP2-PkBudg500\", \"year\":2050},\n",
    "            ],\n",
    "            source_db=\"ecoinvent 3.9.1 cutoff\", \n",
    "            source_version=\"3.9.1\",\n",
    "            key='tUePmX_S5B8ieZkkM7WUU2CnO8SmShwmAeWK9x2rTFo=',\n",
    "            additional_inventories= [ # <-- this is NEW\n",
    "                {\"filepath\": r\"C:\\Users\\hahnme_a\\Desktop\\ETH\\Teaching LCA\\Anna\\pLCA_test.xlsx\", \"ecoinvent version\": \"3.9.1\"}, # <-- this is NEW\n",
    "            ] # <-- this is NEW\n",
    "                 )"
   ]
  },
  {
   "cell_type": "code",
   "execution_count": 7,
   "id": "2e39db8d-a6ad-4eae-aa0f-27be9bc8f869",
   "metadata": {},
   "outputs": [
    {
     "name": "stdout",
     "output_type": "stream",
     "text": [
      "`update_all()` will skip the following steps:\n",
      "update_two_wheelers(), update_cars(), and update_buses()\n",
      "If you want to update these steps, please run them separately afterwards.\n",
      "Done!\n",
      "\n"
     ]
    }
   ],
   "source": [
    "ndb.update_all()"
   ]
  },
  {
   "cell_type": "code",
   "execution_count": 8,
   "id": "b42f59ca-f520-4185-a8af-5c18e7293302",
   "metadata": {},
   "outputs": [
    {
     "name": "stdout",
     "output_type": "stream",
     "text": [
      "Write new database(s) to Brightway.\n",
      "One or multiple duplicates detected. Removing them...\n",
      "Database ecoinvent_cutoff_3.9_remind_SSP2-Base_2050 already exists: it will be overwritten.\n"
     ]
    },
    {
     "name": "stderr",
     "output_type": "stream",
     "text": [
      "Writing activities to SQLite3 database:\n",
      "0% [##############################] 100% | ETA: 00:00:00\n",
      "Total time elapsed: 00:01:13\n"
     ]
    },
    {
     "name": "stdout",
     "output_type": "stream",
     "text": [
      "Title: Writing activities to SQLite3 database:\n",
      "  Started: 10/24/2023 14:30:21\n",
      "  Finished: 10/24/2023 14:31:35\n",
      "  Total time elapsed: 00:01:13\n",
      "  CPU %: 99.10\n",
      "  Memory %: 31.42\n",
      "Created database: ecoinvent_cutoff_3.9_remind_SSP2-Base_2050\n",
      "Database ecoinvent_cutoff_3.9_remind_SSP2-PkBudg500_2050 already exists: it will be overwritten.\n"
     ]
    },
    {
     "name": "stderr",
     "output_type": "stream",
     "text": [
      "Writing activities to SQLite3 database:\n",
      "0% [##############################] 100% | ETA: 00:00:00\n",
      "Total time elapsed: 00:00:57\n"
     ]
    },
    {
     "name": "stdout",
     "output_type": "stream",
     "text": [
      "Title: Writing activities to SQLite3 database:\n",
      "  Started: 10/24/2023 14:34:15\n",
      "  Finished: 10/24/2023 14:35:13\n",
      "  Total time elapsed: 00:00:57\n",
      "  CPU %: 99.40\n",
      "  Memory %: 30.21\n",
      "Created database: ecoinvent_cutoff_3.9_remind_SSP2-PkBudg500_2050\n",
      "Generate scenario report.\n",
      "Report saved under C:\\Users\\hahnme_a\\Desktop\\ETH\\Teaching LCA\\Anna\\export\\scenario_report.\n",
      "Generate change report.\n",
      "Report saved under C:\\Users\\hahnme_a\\Desktop\\ETH\\Teaching LCA\\Anna.\n"
     ]
    }
   ],
   "source": [
    "ndb.write_db_to_brightway()"
   ]
  },
  {
   "cell_type": "markdown",
   "id": "c35a7012-c22d-41e8-a323-473cf3b52fb4",
   "metadata": {},
   "source": [
    "## LCIA"
   ]
  },
  {
   "cell_type": "code",
   "execution_count": null,
   "id": "18410ee6-87ea-46a9-9b62-33d39f864bda",
   "metadata": {},
   "outputs": [],
   "source": []
  }
 ],
 "metadata": {
  "kernelspec": {
   "display_name": "Python 3 (ipykernel)",
   "language": "python",
   "name": "python3"
  },
  "language_info": {
   "codemirror_mode": {
    "name": "ipython",
    "version": 3
   },
   "file_extension": ".py",
   "mimetype": "text/x-python",
   "name": "python",
   "nbconvert_exporter": "python",
   "pygments_lexer": "ipython3",
   "version": "3.10.14"
  }
 },
 "nbformat": 4,
 "nbformat_minor": 5
}
