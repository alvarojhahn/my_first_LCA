{
 "cells": [
  {
   "cell_type": "code",
   "execution_count": 1,
   "id": "ca0b4edb",
   "metadata": {},
   "outputs": [],
   "source": [
    "import bw2data as bd\n",
    "import bw2io as bi\n",
    "import bw2calc as bc\n",
    "import brightway2 as bw"
   ]
  },
  {
   "cell_type": "code",
   "execution_count": 2,
   "id": "6ffa3611",
   "metadata": {},
   "outputs": [],
   "source": [
    "# to import forwast\n",
    "import os\n",
    "import zipfile\n",
    "from bw2data.utils import download_file"
   ]
  },
  {
   "cell_type": "code",
   "execution_count": 3,
   "id": "de5475da-ac7d-4abe-afaa-884e4f576872",
   "metadata": {},
   "outputs": [],
   "source": [
    "from premise import *"
   ]
  },
  {
   "cell_type": "markdown",
   "id": "d3f444eb-c0bc-4bf1-8dab-554ae59fca14",
   "metadata": {},
   "source": [
    "## This notebook"
   ]
  },
  {
   "cell_type": "markdown",
   "id": "2164ed63-2caf-41fe-afe9-b3894e2044c0",
   "metadata": {},
   "source": [
    "The objective of this notebook is to demonstrate how to solve the \"My First LCA\" exercise from the ESA course using the Brightway and ActivityBrowser tools. Additionally, it provides supplementary information on these tools.\n",
    "\n",
    "- Author (and contact):\n",
    "    - Alvaro Hahn (alvaro.hahn-menacho@psi.ch)\n"
   ]
  },
  {
   "cell_type": "markdown",
   "id": "2f7c22be-e46d-4f71-828f-87f3ba39fb0d",
   "metadata": {},
   "source": [
    "### Useful material"
   ]
  },
  {
   "cell_type": "markdown",
   "id": "a31024c1-5081-4bf1-96a1-a6442e3f01f7",
   "metadata": {},
   "source": [
    "1. General info on how to use Brightway:\n",
    "   - https://github.com/Depart-de-Sentier/teaching-material/tree/main/beginners\n",
    "   - https://docs.brightway.dev/en/latest/\n",
    "3. General info on Activity-Browser:\n",
    "   - https://github.com/LCA-ActivityBrowser/activity-browser\n",
    "   - https://www.youtube.com/@activity-browser\n",
    "4. Interested in prospective LCA 🧐:\n",
    "   - https://github.com/polca/premise"
   ]
  },
  {
   "cell_type": "markdown",
   "id": "4904ab7d",
   "metadata": {},
   "source": [
    "### 1. Set project and create biosphere"
   ]
  },
  {
   "cell_type": "code",
   "execution_count": 4,
   "id": "7b44ae46",
   "metadata": {
    "scrolled": true
   },
   "outputs": [
    {
     "name": "stdout",
     "output_type": "stream",
     "text": [
      "Biosphere database already present!!! No setup is needed\n"
     ]
    }
   ],
   "source": [
    "bd.projects.set_current(\"myfirstLCA_2\") # Creating/accessing the projecs\n",
    "bi.bw2setup()"
   ]
  },
  {
   "cell_type": "code",
   "execution_count": 5,
   "id": "554524ce-e566-4fe4-a917-da3e8dac7dad",
   "metadata": {},
   "outputs": [
    {
     "data": {
      "text/plain": [
       "Databases dictionary with 5 object(s):\n",
       "\tbiosphere3\n",
       "\tecoinvent 3.9.1 cutoff\n",
       "\tecoinvent_cutoff_3.9_remind_SSP2-Base_2050\n",
       "\tecoinvent_cutoff_3.9_remind_SSP2-PkBudg500_2050\n",
       "\tesa_exercise"
      ]
     },
     "execution_count": 5,
     "metadata": {},
     "output_type": "execute_result"
    }
   ],
   "source": [
    "bd.databases"
   ]
  },
  {
   "cell_type": "markdown",
   "id": "d68e503e",
   "metadata": {},
   "source": [
    "## 2. Import forwast database (and ecoinvent)"
   ]
  },
  {
   "cell_type": "code",
   "execution_count": 13,
   "id": "8fa54553",
   "metadata": {
    "scrolled": true
   },
   "outputs": [],
   "source": [
    "ei_path = r\"C:\\Users\\hahnme_a\\Ecoinvent\\3.9\\datasets\"\n",
    "ei_name = 'ecoinvent 3.9.1 cutoff'"
   ]
  },
  {
   "cell_type": "code",
   "execution_count": 15,
   "id": "3ec21ebf",
   "metadata": {},
   "outputs": [
    {
     "name": "stderr",
     "output_type": "stream",
     "text": [
      "Extracting ecospold2 files:\n",
      "0% [##############################] 100% | ETA: 00:00:00 | Item ID: fffede58-fed2-5\n",
      "Total time elapsed: 00:03:03\n"
     ]
    },
    {
     "name": "stdout",
     "output_type": "stream",
     "text": [
      "Title: Extracting ecospold2 files:\n",
      "  Started: 04/16/2024 14:52:26\n",
      "  Finished: 04/16/2024 14:55:29\n",
      "  Total time elapsed: 00:03:03\n",
      "  CPU %: 91.70\n",
      "  Memory %: 18.10\n",
      "Extracted 21238 datasets in 186.01 seconds\n",
      "Applying strategy: normalize_units\n",
      "Applying strategy: update_ecoinvent_locations\n",
      "Applying strategy: remove_zero_amount_coproducts\n",
      "Applying strategy: remove_zero_amount_inputs_with_no_activity\n",
      "Applying strategy: remove_unnamed_parameters\n",
      "Applying strategy: es2_assign_only_product_with_amount_as_reference_product\n",
      "Applying strategy: assign_single_product_as_activity\n",
      "Applying strategy: create_composite_code\n",
      "Applying strategy: drop_unspecified_subcategories\n",
      "Applying strategy: fix_ecoinvent_flows_pre35\n",
      "Applying strategy: drop_temporary_outdated_biosphere_flows\n",
      "Applying strategy: link_biosphere_by_flow_uuid\n",
      "Applying strategy: link_internal_technosphere_by_composite_code\n",
      "Applying strategy: delete_exchanges_missing_activity\n",
      "Applying strategy: delete_ghost_exchanges\n",
      "Applying strategy: remove_uncertainty_from_negative_loss_exchanges\n",
      "Applying strategy: fix_unreasonably_high_lognormal_uncertainties\n",
      "Applying strategy: convert_activity_parameters_to_list\n",
      "Applying strategy: add_cpc_classification_from_single_reference_product\n",
      "Applying strategy: delete_none_synonyms\n",
      "Applying strategy: update_social_flows_in_older_consequential\n",
      "Applying strategy: set_lognormal_loc_value\n",
      "Applied 22 strategies in 6.80 seconds\n"
     ]
    },
    {
     "name": "stderr",
     "output_type": "stream",
     "text": [
      "Writing activities to SQLite3 database:\n"
     ]
    },
    {
     "name": "stdout",
     "output_type": "stream",
     "text": [
      "21238 datasets\n",
      "674593 exchanges\n",
      "0 unlinked exchanges\n",
      "  \n"
     ]
    },
    {
     "name": "stderr",
     "output_type": "stream",
     "text": [
      "0% [##############################] 100% | ETA: 00:00:00\n",
      "Total time elapsed: 00:00:39\n"
     ]
    },
    {
     "name": "stdout",
     "output_type": "stream",
     "text": [
      "Title: Writing activities to SQLite3 database:\n",
      "  Started: 04/16/2024 14:55:36\n",
      "  Finished: 04/16/2024 14:56:16\n",
      "  Total time elapsed: 00:00:39\n",
      "  CPU %: 99.40\n",
      "  Memory %: 18.89\n",
      "Created database: ecoinvent 3.9.1 cutoff\n"
     ]
    }
   ],
   "source": [
    "#ecoinvent\n",
    "if ei_name in bd.databases:\n",
    "    print(\"Database has already been imported.\")\n",
    "else:\n",
    "    # mind that the ecoinvent file must be unzipped; then: path to the datasets subfolder\n",
    "    # the \"r\" makes sure that the path is read as a string - especially useful when you have spaces in your string\n",
    "    ei39cut = bi.SingleOutputEcospold2Importer(ei_path, ei_name)\n",
    "    ei39cut\n",
    "    ei39cut.apply_strategies()\n",
    "    ei39cut.statistics()\n",
    "    ei39cut.write_database()"
   ]
  },
  {
   "cell_type": "code",
   "execution_count": 7,
   "id": "4b3f67bd",
   "metadata": {},
   "outputs": [
    {
     "data": {
      "text/plain": [
       "Databases dictionary with 2 object(s):\n",
       "\tbiosphere3\n",
       "\tecoinvent 3.9.1 cutoff"
      ]
     },
     "execution_count": 7,
     "metadata": {},
     "output_type": "execute_result"
    }
   ],
   "source": [
    "bd.databases"
   ]
  },
  {
   "cell_type": "markdown",
   "id": "976f9959",
   "metadata": {},
   "source": [
    "## 3. Import Excel database"
   ]
  },
  {
   "cell_type": "code",
   "execution_count": 8,
   "id": "b7c0f8b2",
   "metadata": {},
   "outputs": [
    {
     "name": "stdout",
     "output_type": "stream",
     "text": [
      "Extracted 1 worksheets in 0.03 seconds\n",
      "Applying strategy: csv_restore_tuples\n",
      "Applying strategy: csv_restore_booleans\n",
      "Applying strategy: csv_numerize\n",
      "Applying strategy: csv_drop_unknown\n",
      "Applying strategy: csv_add_missing_exchanges_section\n",
      "Applying strategy: normalize_units\n",
      "Applying strategy: normalize_biosphere_categories\n",
      "Applying strategy: normalize_biosphere_names\n",
      "Applying strategy: strip_biosphere_exc_locations\n",
      "Applying strategy: set_code_by_activity_hash\n",
      "Applying strategy: link_iterable_by_fields\n",
      "Applying strategy: assign_only_product_as_production\n",
      "Applying strategy: link_technosphere_by_activity_hash\n",
      "Applying strategy: drop_falsey_uncertainty_fields_but_keep_zeros\n",
      "Applying strategy: convert_uncertainty_types_to_integers\n",
      "Applying strategy: convert_activity_parameters_to_list\n",
      "Applied 16 strategies in 5.35 seconds\n",
      "Applying strategy: link_iterable_by_fields\n",
      "Applying strategy: link_iterable_by_fields\n",
      "23 datasets\n",
      "153 exchanges\n",
      "26 unlinked exchanges\n",
      "  Type biosphere: 4 unique unlinked exchanges\n",
      "  Type technosphere: 21 unique unlinked exchanges\n"
     ]
    },
    {
     "data": {
      "text/plain": [
       "(23, 153, 26)"
      ]
     },
     "execution_count": 8,
     "metadata": {},
     "output_type": "execute_result"
    }
   ],
   "source": [
    "imp = bi.ExcelImporter(os.path.join(\"data/Data_Import_Pallas.xlsx\"))\n",
    "imp.apply_strategies()\n",
    "imp.match_database(fields=('name', 'unit', 'location','reference product'))\n",
    "imp.match_database(\"ecoinvent 3.9.1 cutoff\", fields=('name', 'unit', 'location','reference product'))\n",
    "imp.statistics()"
   ]
  },
  {
   "cell_type": "markdown",
   "id": "98e9960a-3f79-4641-b340-1c4ed2f1c2da",
   "metadata": {},
   "source": [
    "### ⚠️ Warning: It is key to have 0 unlinked exchanges. Otherwise, it will not be possible to solve the system."
   ]
  },
  {
   "cell_type": "markdown",
   "id": "ad8dea12-7e92-40d1-a458-635894c6e748",
   "metadata": {},
   "source": [
    "#### Only once we have 0 unliked exchanges we write our database. What if we need to troubleshoot? We run:"
   ]
  },
  {
   "cell_type": "code",
   "execution_count": 9,
   "id": "fc860f9b-c4fb-41af-89f6-d9b34024c7a6",
   "metadata": {},
   "outputs": [
    {
     "name": "stdout",
     "output_type": "stream",
     "text": [
      "Wrote matching file to:\n",
      "C:\\Users\\hahnme_a\\AppData\\Local\\pylca\\Brightway3\\myfirstLCA_2.0ef126b032886206d5b99c0d9d380032\\output\\db-matching-pallas2020_paper.xlsx\n"
     ]
    }
   ],
   "source": [
    "imp.write_excel()"
   ]
  },
  {
   "cell_type": "code",
   "execution_count": 18,
   "id": "987e9444",
   "metadata": {},
   "outputs": [
    {
     "name": "stderr",
     "output_type": "stream",
     "text": [
      "Writing activities to SQLite3 database:\n",
      "0% [########] 100% | ETA: 00:00:00\n",
      "Total time elapsed: 00:00:00\n"
     ]
    },
    {
     "name": "stdout",
     "output_type": "stream",
     "text": [
      "Title: Writing activities to SQLite3 database:\n",
      "  Started: 04/16/2024 15:09:25\n",
      "  Finished: 04/16/2024 15:09:25\n",
      "  Total time elapsed: 00:00:00\n",
      "  CPU %: 0.00\n",
      "  Memory %: 19.32\n",
      "Created database: esa_exercise\n"
     ]
    }
   ],
   "source": [
    "imp.write_database()"
   ]
  },
  {
   "cell_type": "code",
   "execution_count": 19,
   "id": "9199c358-b9ec-4216-8b7a-02c521f8ab34",
   "metadata": {},
   "outputs": [
    {
     "data": {
      "text/plain": [
       "Databases dictionary with 3 object(s):\n",
       "\tbiosphere3\n",
       "\tecoinvent 3.9.1 cutoff\n",
       "\tesa_exercise"
      ]
     },
     "execution_count": 19,
     "metadata": {},
     "output_type": "execute_result"
    }
   ],
   "source": [
    "bd.databases"
   ]
  },
  {
   "cell_type": "markdown",
   "id": "2112a8a4",
   "metadata": {},
   "source": [
    "## 4. Exploring the database"
   ]
  },
  {
   "cell_type": "code",
   "execution_count": 6,
   "id": "7e037aba",
   "metadata": {},
   "outputs": [
    {
     "name": "stdout",
     "output_type": "stream",
     "text": [
      "'diesel supply' (liter, CH, None)\n",
      "'natural gas supply' (cubic meter, CH, None)\n",
      "'power generation' (kilowatt hour, CH, None)\n",
      "'EV production' (unit, CH, None)\n",
      "'ICEV production' (unit, CH, None)\n",
      "'driving the ICEV' (kilometer, CH, None)\n",
      "'battery manufacturing' (unit, CH, None)\n",
      "'driving the EV' (kilometer, CH, None)\n"
     ]
    }
   ],
   "source": [
    "wbi = bd.Database(\"esa_exercise\")\n",
    "for act in wbi:\n",
    "    print(act)"
   ]
  },
  {
   "cell_type": "code",
   "execution_count": 7,
   "id": "4dd0f9b9",
   "metadata": {},
   "outputs": [
    {
     "name": "stdout",
     "output_type": "stream",
     "text": [
      "('CML v4.8 2016', 'climate change', 'global warming potential (GWP100)')\n",
      "('Ecological Scarcity 2021', 'climate change', 'global warming potential (GWP100)')\n",
      "('EF v3.0', 'climate change', 'global warming potential (GWP100)')\n",
      "('EF v3.1', 'climate change', 'global warming potential (GWP100)')\n",
      "('IMPACT 2002+ (Endpoint)', 'climate change', 'climate change')\n",
      "('IMPACT 2002+ (Endpoint)', 'climate change', 'total')\n",
      "('IPCC 2013', 'climate change', 'global temperature change potential (GTP100)')\n",
      "('IPCC 2013', 'climate change', 'global temperature change potential (GTP20)')\n",
      "('IPCC 2013', 'climate change', 'global warming potential (GWP100)')\n",
      "('IPCC 2013', 'climate change', 'global warming potential (GWP20)')\n",
      "('IPCC 2021', 'climate change', 'global temperature change potential (GTP100)')\n",
      "('IPCC 2021', 'climate change', 'global temperature change potential (GTP50)')\n",
      "('IPCC 2021', 'climate change', 'global warming potential (GWP100)')\n",
      "('IPCC 2021', 'climate change', 'global warming potential (GWP20)')\n",
      "('IPCC 2021', 'climate change', 'global warming potential (GWP500)')\n",
      "('ReCiPe 2016 v1.03, midpoint (E)', 'climate change', 'global warming potential (GWP1000)')\n",
      "('ReCiPe 2016 v1.03, midpoint (H)', 'climate change', 'global warming potential (GWP1000)')\n",
      "('ReCiPe 2016 v1.03, midpoint (I)', 'climate change', 'global warming potential (GWP1000)')\n",
      "('TRACI v2.1', 'climate change', 'global warming potential (GWP100)')\n",
      "('EF v3.0 EN15804', 'climate change', 'global warming potential (GWP100)')\n",
      "('EF v3.1 EN15804', 'climate change', 'global warming potential (GWP100)')\n"
     ]
    }
   ],
   "source": [
    "for key in bd.methods:\n",
    "   if 'climate change' in key:\n",
    "       print(key)"
   ]
  },
  {
   "cell_type": "markdown",
   "id": "b3983e45",
   "metadata": {},
   "source": [
    "## 5. LCA"
   ]
  },
  {
   "cell_type": "markdown",
   "id": "d2639c46-8dbc-46b9-9c27-743d1423eb33",
   "metadata": {},
   "source": [
    "#### Goal and scope"
   ]
  },
  {
   "cell_type": "code",
   "execution_count": 8,
   "id": "d3a6e7ae-71e8-4026-86f8-0bcf6b0e3ba4",
   "metadata": {},
   "outputs": [
    {
     "data": {
      "text/plain": [
       "{'driving the EV' (kilometer, CH, None): 100}"
      ]
     },
     "execution_count": 8,
     "metadata": {},
     "output_type": "execute_result"
    }
   ],
   "source": [
    "# functional unit (driving 100km with each vehicle alternative)\n",
    "ev_driving = [act for act in wbi if 'driving the EV' in act['name'] and 'CH' in act['location']][0]\n",
    "functional_unit_EV = {ev_driving:100}\n",
    "functional_unit_EV"
   ]
  },
  {
   "cell_type": "code",
   "execution_count": 9,
   "id": "cc2c3065-5a77-4baf-b856-fc814cd5c41e",
   "metadata": {},
   "outputs": [
    {
     "data": {
      "text/plain": [
       "{'driving the ICEV' (kilometer, CH, None): 100}"
      ]
     },
     "execution_count": 9,
     "metadata": {},
     "output_type": "execute_result"
    }
   ],
   "source": [
    "icev_driving = [act for act in wbi if 'driving the ICEV' in act['name'] and 'CH' in act['location']][0]\n",
    "functional_unit_icev = {icev_driving:100}\n",
    "functional_unit_icev"
   ]
  },
  {
   "cell_type": "code",
   "execution_count": 10,
   "id": "d207ee41-524d-4523-a33c-63c7b6a9a51e",
   "metadata": {},
   "outputs": [
    {
     "data": {
      "text/plain": [
       "('EF v3.0 no LT',\n",
       " 'climate change no LT',\n",
       " 'global warming potential (GWP100) no LT')"
      ]
     },
     "execution_count": 10,
     "metadata": {},
     "output_type": "execute_result"
    }
   ],
   "source": [
    "# Method: let's select EF3.0\n",
    "CC_method = [m for m in bd.methods if 'EF v3.0' in str(m) and  'climate change' in str(m) and 'global warming potential (GWP100)' in str(m)][0]\n",
    "CC_method"
   ]
  },
  {
   "cell_type": "markdown",
   "id": "604a2a7b-398d-44fb-a309-6ab02d5fcb00",
   "metadata": {},
   "source": [
    "#### LCI + LCIA"
   ]
  },
  {
   "cell_type": "code",
   "execution_count": 11,
   "id": "7544fa06-468f-47f8-9f93-e48b3cfe3c5c",
   "metadata": {},
   "outputs": [
    {
     "data": {
      "text/plain": [
       "11.232424827019575"
      ]
     },
     "execution_count": 11,
     "metadata": {},
     "output_type": "execute_result"
    }
   ],
   "source": [
    "lca_ev = bc.LCA(functional_unit_EV,CC_method)\n",
    "lca_ev.lci()\n",
    "lca_ev.lcia()\n",
    "lca_ev.score"
   ]
  },
  {
   "cell_type": "code",
   "execution_count": 12,
   "id": "a685e7f2-4bf9-4155-a73c-bef4a977854a",
   "metadata": {},
   "outputs": [
    {
     "data": {
      "text/plain": [
       "24.750991772952755"
      ]
     },
     "execution_count": 12,
     "metadata": {},
     "output_type": "execute_result"
    }
   ],
   "source": [
    "lca_icev = bc.LCA(functional_unit_icev,CC_method)\n",
    "lca_icev.lci()\n",
    "lca_icev.lcia()\n",
    "lca_icev.score"
   ]
  },
  {
   "cell_type": "markdown",
   "id": "c3411f8d-c60d-4785-ac46-ac500e01ad52",
   "metadata": {},
   "source": [
    "#### Interpretation"
   ]
  },
  {
   "cell_type": "code",
   "execution_count": 13,
   "id": "84f7c533-7809-4c24-a830-b6f522edb17b",
   "metadata": {
    "scrolled": true
   },
   "outputs": [
    {
     "name": "stdout",
     "output_type": "stream",
     "text": [
      "- Driving 100km using an electric car yields an impact of : 11.23 kgCO2eq\n",
      "- Driving 100km using a diesel car yields an impact of : 24.75 kgCO2eq\n",
      "- Choosing an electric vehicle is the better alternative for climate change mitigation, resulting in a 54.62% reduction in impact compared to an internal combustion engine vehicle.\n"
     ]
    }
   ],
   "source": [
    "print('- Driving 100km using an electric car yields an impact of : {:.2f} kgCO2eq'.format(lca_ev.score))\n",
    "print('- Driving 100km using a diesel car yields an impact of : {:.2f} kgCO2eq'.format(lca_icev.score))\n",
    "if lca_ev.score < lca_icev.score:\n",
    "    print('- Choosing an electric vehicle is the better alternative for climate change mitigation, resulting in a {:.2f}% reduction in impact compared to an internal combustion engine vehicle.'\n",
    "          .format((lca_icev.score - lca_ev.score) / lca_icev.score * 100))\n",
    "else:\n",
    "    print('- Choosing an internal combustion engine vehicle is the better alternative for climate change mitigation, resulting in a {:.2f}% reduction in impact compared to an electric vehicle.'\n",
    "          .format((lca_ev.score - lca_icev.score) / lca_ev.score * 100))"
   ]
  },
  {
   "cell_type": "markdown",
   "id": "49837087-f676-4d41-b0cf-ac44841657a2",
   "metadata": {},
   "source": [
    "## 6. Prospective LCA"
   ]
  },
  {
   "cell_type": "markdown",
   "id": "1eda321c-8102-420b-811d-8afaf569213e",
   "metadata": {},
   "source": [
    "Here comes premise"
   ]
  },
  {
   "cell_type": "markdown",
   "id": "143bf6dc-4bdb-4778-b35d-18bfe7a89a6c",
   "metadata": {},
   "source": [
    "Upon the database extraction, you can import some of your Brightway2-compatible inventories like so:"
   ]
  },
  {
   "cell_type": "code",
   "execution_count": 6,
   "id": "ae66a066-c7d2-4392-ac7e-5fd12f6044ca",
   "metadata": {},
   "outputs": [
    {
     "name": "stdout",
     "output_type": "stream",
     "text": [
      "Cache folder cleared!\n"
     ]
    }
   ],
   "source": [
    "clear_cache()"
   ]
  },
  {
   "cell_type": "code",
   "execution_count": 7,
   "id": "4aa88bf4-c4c5-4fa6-89f7-85020773b4bd",
   "metadata": {},
   "outputs": [
    {
     "name": "stdout",
     "output_type": "stream",
     "text": [
      "premise v.(2, 0, 2)\n",
      "+------------------------------------------------------------------+\n",
      "| Warning                                                          |\n",
      "+------------------------------------------------------------------+\n",
      "| Because some of the scenarios can yield LCI databases            |\n",
      "| containing net negative emission technologies (NET),             |\n",
      "| it is advised to account for biogenic CO2 flows when calculating |\n",
      "| Global Warming potential indicators.                             |\n",
      "| `premise_gwp` provides characterization factors for such flows.  |\n",
      "| It also provides factors for hydrogen emissions to air.          |\n",
      "|                                                                  |\n",
      "| Within your bw2 project:                                         |\n",
      "| from premise_gwp import add_premise_gwp                          |\n",
      "| add_premise_gwp()                                                |\n",
      "+------------------------------------------------------------------+\n",
      "+--------------------------------+----------------------------------+\n",
      "| Utils functions                | Description                      |\n",
      "+--------------------------------+----------------------------------+\n",
      "| clear_cache()                  | Clears the cache folder. Useful  |\n",
      "|                                | when updating `premise`or        |\n",
      "|                                | encountering issues with         |\n",
      "|                                | inventories.                     |\n",
      "+--------------------------------+----------------------------------+\n",
      "| get_regions_definition(model)  | Retrieves the list of countries  |\n",
      "|                                | for each region of the model.    |\n",
      "+--------------------------------+----------------------------------+\n",
      "| ndb.NewDatabase(...)           | Generates a summary of the most  |\n",
      "| ndb.generate_scenario_report() | important scenarios' variables.  |\n",
      "+--------------------------------+----------------------------------+\n",
      "Keep uncertainty data?\n",
      "NewDatabase(..., keep_uncertainty_data=True)\n",
      "\n",
      "Disable multiprocessing?\n",
      "NewDatabase(..., use_multiprocessing=False)\n",
      "\n",
      "Hide these messages?\n",
      "NewDatabase(..., quiet=True)\n",
      "- Extracting source database\n",
      "Cannot find cached database. Will create one now for next time...\n",
      "Getting activity data\n"
     ]
    },
    {
     "name": "stderr",
     "output_type": "stream",
     "text": [
      "100%|██████████████████████████████████████████████████████████████████████████████████████████████████████████████████████████████████████████████████████████████████████████████████████████████████████████████████████████████████████████████████████████████████████████████| 21238/21238 [00:00<00:00, 25021.06it/s]\n"
     ]
    },
    {
     "name": "stdout",
     "output_type": "stream",
     "text": [
      "Adding exchange data to activities\n"
     ]
    },
    {
     "name": "stderr",
     "output_type": "stream",
     "text": [
      "100%|█████████████████████████████████████████████████████████████████████████████████████████████████████████████████████████████████████████████████████████████████████████████████████████████████████████████████████████████████████████████████████████████████████████████| 674593/674593 [01:34<00:00, 7139.70it/s]\n"
     ]
    },
    {
     "name": "stdout",
     "output_type": "stream",
     "text": [
      "Filling out exchange data\n"
     ]
    },
    {
     "name": "stderr",
     "output_type": "stream",
     "text": [
      "100%|███████████████████████████████████████████████████████████████████████████████████████████████████████████████████████████████████████████████████████████████████████████████████████████████████████████████████████████████████████████████████████████████████████████████| 21238/21238 [00:08<00:00, 2454.69it/s]\n"
     ]
    },
    {
     "name": "stdout",
     "output_type": "stream",
     "text": [
      "Set missing location of datasets to global scope.\n",
      "Set missing location of production exchanges to scope of dataset.\n",
      "Correct missing location of technosphere exchanges.\n",
      "Correct missing flow categories for biosphere exchanges\n",
      "Remove empty exchanges.\n",
      "Remove uncertainty data.\n",
      "- Extracting inventories\n",
      "Cannot find cached inventories. Will create them now for next time...\n",
      "Importing default inventories...\n",
      "\n",
      "Extracted 1 worksheets in 0.84 seconds\n",
      "Migrating to 3.8 first\n",
      "Applying strategy: migrate_datasets\n",
      "Applying strategy: migrate_exchanges\n",
      "Applying strategy: migrate_datasets\n",
      "Applying strategy: migrate_exchanges\n",
      "Applying strategy: migrate_datasets\n",
      "Applying strategy: migrate_exchanges\n",
      "Remove uncertainty data.\n",
      "Extracted 1 worksheets in 0.12 seconds\n",
      "Migrating to 3.8 first\n",
      "Applying strategy: migrate_datasets\n",
      "Applying strategy: migrate_exchanges\n",
      "Applying strategy: migrate_datasets\n",
      "Applying strategy: migrate_exchanges\n",
      "Applying strategy: migrate_datasets\n",
      "Applying strategy: migrate_exchanges\n",
      "Remove uncertainty data.\n",
      "Extracted 1 worksheets in 0.05 seconds\n",
      "Migrating to 3.8 first\n",
      "Applying strategy: migrate_datasets\n",
      "Applying strategy: migrate_exchanges\n",
      "Applying strategy: migrate_datasets\n",
      "Applying strategy: migrate_exchanges\n",
      "Applying strategy: migrate_datasets\n",
      "Applying strategy: migrate_exchanges\n",
      "Remove uncertainty data.\n",
      "Extracted 1 worksheets in 0.12 seconds\n",
      "Remove uncertainty data.\n",
      "Extracted 1 worksheets in 0.06 seconds\n",
      "Migrating to 3.8 first\n",
      "Applying strategy: migrate_datasets\n",
      "Applying strategy: migrate_exchanges\n",
      "Applying strategy: migrate_datasets\n",
      "Applying strategy: migrate_exchanges\n",
      "Applying strategy: migrate_datasets\n",
      "Applying strategy: migrate_exchanges\n",
      "Remove uncertainty data.\n",
      "Extracted 1 worksheets in 0.11 seconds\n",
      "Remove uncertainty data.\n",
      "Extracted 7 worksheets in 0.23 seconds\n",
      "Migrating to 3.8 first\n",
      "Applying strategy: migrate_datasets\n",
      "Applying strategy: migrate_exchanges\n",
      "Applying strategy: migrate_datasets\n",
      "Applying strategy: migrate_exchanges\n",
      "Remove uncertainty data.\n",
      "Extracted 1 worksheets in 0.18 seconds\n",
      "Migrating to 3.8 first\n",
      "Applying strategy: migrate_datasets\n",
      "Applying strategy: migrate_exchanges\n",
      "Applying strategy: migrate_datasets\n",
      "Applying strategy: migrate_exchanges\n",
      "Remove uncertainty data.\n",
      "Extracted 1 worksheets in 0.08 seconds\n",
      "Migrating to 3.8 first\n",
      "Applying strategy: migrate_datasets\n",
      "Applying strategy: migrate_exchanges\n",
      "Applying strategy: migrate_datasets\n",
      "Applying strategy: migrate_exchanges\n",
      "Remove uncertainty data.\n",
      "Extracted 1 worksheets in 0.22 seconds\n",
      "Migrating to 3.8 first\n",
      "Applying strategy: migrate_datasets\n",
      "Applying strategy: migrate_exchanges\n",
      "Applying strategy: migrate_datasets\n",
      "Applying strategy: migrate_exchanges\n",
      "Remove uncertainty data.\n",
      "Extracted 1 worksheets in 0.10 seconds\n",
      "Remove uncertainty data.\n",
      "Extracted 1 worksheets in 3.22 seconds\n",
      "Migrating to 3.8 first\n",
      "Applying strategy: migrate_datasets\n",
      "Applying strategy: migrate_exchanges\n",
      "Applying strategy: migrate_datasets\n",
      "Applying strategy: migrate_exchanges\n",
      "Applying strategy: migrate_datasets\n",
      "Applying strategy: migrate_exchanges\n",
      "Remove uncertainty data.\n",
      "The following datasets to import already exist in the source database. They will not be imported\n",
      "+--------------------------------+--------------------------------+----------+-------------+\n",
      "|              Name              |       Reference product        | Location |     File    |\n",
      "+--------------------------------+--------------------------------+----------+-------------+\n",
      "| fluorspar production, 97% puri |     fluorspar, 97% purity      |   GLO    | lci-PV.xlsx |\n",
      "| metallization paste production | metallization paste, back side |   RER    | lci-PV.xlsx |\n",
      "| metallization paste production | metallization paste, back side |   RER    | lci-PV.xlsx |\n",
      "| metallization paste production | metallization paste, front sid |   RER    | lci-PV.xlsx |\n",
      "| photovoltaic module production | photovoltaic module, building- |   RER    | lci-PV.xlsx |\n",
      "| photovoltaic module production | photovoltaic module, building- |   RER    | lci-PV.xlsx |\n",
      "| photovoltaic mounting system p | photovoltaic mounting system,  |   RER    | lci-PV.xlsx |\n",
      "| photovoltaic mounting system p | photovoltaic mounting system,  |   RER    | lci-PV.xlsx |\n",
      "| photovoltaic mounting system p | photovoltaic mounting system,  |   RER    | lci-PV.xlsx |\n",
      "| photovoltaic panel factory con |   photovoltaic panel factory   |   GLO    | lci-PV.xlsx |\n",
      "|  polyvinylfluoride production  |       polyvinylfluoride        |    US    | lci-PV.xlsx |\n",
      "| polyvinylfluoride production,  | polyvinylfluoride, dispersion  |    US    | lci-PV.xlsx |\n",
      "| polyvinylfluoride, film produc |    polyvinylfluoride, film     |    US    | lci-PV.xlsx |\n",
      "| silicon production, metallurgi |  silicon, metallurgical grade  |    NO    | lci-PV.xlsx |\n",
      "|   vinyl fluoride production    |         vinyl fluoride         |    US    | lci-PV.xlsx |\n",
      "|   wafer factory construction   |         wafer factory          |    DE    | lci-PV.xlsx |\n",
      "+--------------------------------+--------------------------------+----------+-------------+\n",
      "Extracted 1 worksheets in 0.38 seconds\n",
      "Remove uncertainty data.\n",
      "Extracted 1 worksheets in 0.07 seconds\n",
      "Remove uncertainty data.\n",
      "Extracted 1 worksheets in 0.18 seconds\n",
      "Remove uncertainty data.\n",
      "Extracted 1 worksheets in 0.13 seconds\n",
      "Migrating to 3.8 first\n",
      "Applying strategy: migrate_datasets\n",
      "Applying strategy: migrate_exchanges\n",
      "Applying strategy: migrate_datasets\n",
      "Applying strategy: migrate_exchanges\n",
      "Applying strategy: migrate_datasets\n",
      "Applying strategy: migrate_exchanges\n",
      "Remove uncertainty data.\n",
      "Extracted 1 worksheets in 0.12 seconds\n",
      "Migrating to 3.8 first\n",
      "Applying strategy: migrate_datasets\n",
      "Applying strategy: migrate_exchanges\n",
      "Applying strategy: migrate_datasets\n",
      "Applying strategy: migrate_exchanges\n",
      "Applying strategy: migrate_datasets\n",
      "Applying strategy: migrate_exchanges\n",
      "Remove uncertainty data.\n",
      "The following datasets to import already exist in the source database. They will not be imported\n",
      "+--------------------------------+--------------------------------+----------+--------------------------------+\n",
      "|              Name              |       Reference product        | Location |              File              |\n",
      "+--------------------------------+--------------------------------+----------+--------------------------------+\n",
      "| carbon dioxide, captured at ce | carbon dioxide, captured and r |   RER    | lci-synfuels-from-methanol-fro |\n",
      "+--------------------------------+--------------------------------+----------+--------------------------------+\n",
      "Extracted 1 worksheets in 0.06 seconds\n",
      "Migrating to 3.8 first\n",
      "Applying strategy: migrate_datasets\n",
      "Applying strategy: migrate_exchanges\n",
      "Applying strategy: migrate_datasets\n",
      "Applying strategy: migrate_exchanges\n",
      "Applying strategy: migrate_datasets\n",
      "Applying strategy: migrate_exchanges\n",
      "Remove uncertainty data.\n",
      "Extracted 1 worksheets in 0.12 seconds\n",
      "Migrating to 3.8 first\n",
      "Applying strategy: migrate_datasets\n",
      "Applying strategy: migrate_exchanges\n",
      "Applying strategy: migrate_datasets\n",
      "Applying strategy: migrate_exchanges\n",
      "Applying strategy: migrate_datasets\n",
      "Applying strategy: migrate_exchanges\n",
      "Remove uncertainty data.\n",
      "The following datasets to import already exist in the source database. They will not be imported\n",
      "+--------------------------------+----------------------+----------+--------------------------------+\n",
      "|              Name              |  Reference product   | Location |              File              |\n",
      "+--------------------------------+----------------------+----------+--------------------------------+\n",
      "| methanol distillation, hydroge |  methanol, purified  |   RER    | lci-synfuels-from-methanol-fro |\n",
      "| methanol synthesis, hydrogen f | methanol, unpurified |   RER    | lci-synfuels-from-methanol-fro |\n",
      "+--------------------------------+----------------------+----------+--------------------------------+\n",
      "Extracted 1 worksheets in 0.13 seconds\n",
      "Migrating to 3.8 first\n",
      "Applying strategy: migrate_datasets\n",
      "Applying strategy: migrate_exchanges\n",
      "Applying strategy: migrate_datasets\n",
      "Applying strategy: migrate_exchanges\n",
      "Applying strategy: migrate_datasets\n",
      "Applying strategy: migrate_exchanges\n",
      "Remove uncertainty data.\n",
      "Extracted 1 worksheets in 0.17 seconds\n",
      "Migrating to 3.8 first\n",
      "Applying strategy: migrate_datasets\n",
      "Applying strategy: migrate_exchanges\n",
      "Applying strategy: migrate_datasets\n",
      "Applying strategy: migrate_exchanges\n",
      "Applying strategy: migrate_datasets\n",
      "Applying strategy: migrate_exchanges\n",
      "Remove uncertainty data.\n",
      "Extracted 1 worksheets in 0.10 seconds\n",
      "Migrating to 3.8 first\n",
      "Applying strategy: migrate_datasets\n",
      "Applying strategy: migrate_exchanges\n",
      "Applying strategy: migrate_datasets\n",
      "Applying strategy: migrate_exchanges\n",
      "Applying strategy: migrate_datasets\n",
      "Applying strategy: migrate_exchanges\n",
      "Remove uncertainty data.\n",
      "Extracted 1 worksheets in 0.08 seconds\n",
      "Migrating to 3.8 first\n",
      "Applying strategy: migrate_datasets\n",
      "Applying strategy: migrate_exchanges\n",
      "Applying strategy: migrate_datasets\n",
      "Applying strategy: migrate_exchanges\n",
      "Applying strategy: migrate_datasets\n",
      "Applying strategy: migrate_exchanges\n",
      "Remove uncertainty data.\n",
      "Extracted 1 worksheets in 0.07 seconds\n",
      "Migrating to 3.8 first\n",
      "Applying strategy: migrate_datasets\n",
      "Applying strategy: migrate_exchanges\n",
      "Applying strategy: migrate_datasets\n",
      "Applying strategy: migrate_exchanges\n",
      "Applying strategy: migrate_datasets\n",
      "Applying strategy: migrate_exchanges\n",
      "Remove uncertainty data.\n",
      "Extracted 1 worksheets in 0.04 seconds\n",
      "Remove uncertainty data.\n",
      "Extracted 1 worksheets in 0.12 seconds\n",
      "Remove uncertainty data.\n",
      "Extracted 1 worksheets in 0.15 seconds\n",
      "Migrating to 3.8 first\n",
      "Applying strategy: migrate_datasets\n",
      "Applying strategy: migrate_exchanges\n",
      "Applying strategy: migrate_datasets\n",
      "Applying strategy: migrate_exchanges\n",
      "Applying strategy: migrate_datasets\n",
      "Applying strategy: migrate_exchanges\n",
      "Remove uncertainty data.\n",
      "The following datasets to import already exist in the source database. They will not be imported\n",
      "+--------------------------------+--------------------------------+----------+--------------------------------+\n",
      "|              Name              |       Reference product        | Location |              File              |\n",
      "+--------------------------------+--------------------------------+----------+--------------------------------+\n",
      "| methanol production facility,  | methanol production facility,  |   RER    | lci-synfuels-from-methanol-fro |\n",
      "+--------------------------------+--------------------------------+----------+--------------------------------+\n",
      "Extracted 1 worksheets in 0.05 seconds\n",
      "Migrating to 3.8 first\n",
      "Applying strategy: migrate_datasets\n",
      "Applying strategy: migrate_exchanges\n",
      "Applying strategy: migrate_datasets\n",
      "Applying strategy: migrate_exchanges\n",
      "Applying strategy: migrate_datasets\n",
      "Applying strategy: migrate_exchanges\n",
      "Remove uncertainty data.\n",
      "Extracted 5 worksheets in 1.27 seconds\n",
      "Migrating to 3.8 first\n",
      "Applying strategy: migrate_datasets\n",
      "Applying strategy: migrate_exchanges\n",
      "Applying strategy: migrate_datasets\n",
      "Applying strategy: migrate_exchanges\n",
      "Applying strategy: migrate_datasets\n",
      "Applying strategy: migrate_exchanges\n",
      "Remove uncertainty data.\n",
      "Extracted 1 worksheets in 0.13 seconds\n",
      "Migrating to 3.8 first\n",
      "Applying strategy: migrate_datasets\n",
      "Applying strategy: migrate_exchanges\n",
      "Applying strategy: migrate_datasets\n",
      "Applying strategy: migrate_exchanges\n",
      "Applying strategy: migrate_datasets\n",
      "Applying strategy: migrate_exchanges\n",
      "Remove uncertainty data.\n",
      "Extracted 1 worksheets in 0.09 seconds\n",
      "Migrating to 3.8 first\n",
      "Applying strategy: migrate_datasets\n",
      "Applying strategy: migrate_exchanges\n",
      "Applying strategy: migrate_datasets\n",
      "Applying strategy: migrate_exchanges\n",
      "Applying strategy: migrate_datasets\n",
      "Applying strategy: migrate_exchanges\n",
      "Remove uncertainty data.\n",
      "Extracted 1 worksheets in 0.10 seconds\n",
      "Migrating to 3.8 first\n",
      "Applying strategy: migrate_datasets\n",
      "Applying strategy: migrate_exchanges\n",
      "Applying strategy: migrate_datasets\n",
      "Applying strategy: migrate_exchanges\n",
      "Applying strategy: migrate_datasets\n",
      "Applying strategy: migrate_exchanges\n",
      "Remove uncertainty data.\n",
      "Extracted 1 worksheets in 0.08 seconds\n",
      "Migrating to 3.8 first\n",
      "Applying strategy: migrate_datasets\n",
      "Applying strategy: migrate_exchanges\n",
      "Applying strategy: migrate_datasets\n",
      "Applying strategy: migrate_exchanges\n",
      "Applying strategy: migrate_datasets\n",
      "Applying strategy: migrate_exchanges\n",
      "Remove uncertainty data.\n",
      "Extracted 1 worksheets in 0.08 seconds\n",
      "Migrating to 3.8 first\n",
      "Applying strategy: migrate_datasets\n",
      "Applying strategy: migrate_exchanges\n",
      "Applying strategy: migrate_datasets\n",
      "Applying strategy: migrate_exchanges\n",
      "Applying strategy: migrate_datasets\n",
      "Applying strategy: migrate_exchanges\n",
      "Remove uncertainty data.\n",
      "Extracted 1 worksheets in 0.08 seconds\n",
      "Migrating to 3.8 first\n",
      "Applying strategy: migrate_datasets\n",
      "Applying strategy: migrate_exchanges\n",
      "Applying strategy: migrate_datasets\n",
      "Applying strategy: migrate_exchanges\n",
      "Applying strategy: migrate_datasets\n",
      "Applying strategy: migrate_exchanges\n",
      "Remove uncertainty data.\n",
      "Extracted 1 worksheets in 0.23 seconds\n",
      "Migrating to 3.8 first\n",
      "Applying strategy: migrate_datasets\n",
      "Applying strategy: migrate_exchanges\n",
      "Applying strategy: migrate_datasets\n",
      "Applying strategy: migrate_exchanges\n",
      "Applying strategy: migrate_datasets\n",
      "Applying strategy: migrate_exchanges\n",
      "Remove uncertainty data.\n",
      "Extracted 1 worksheets in 0.04 seconds\n",
      "Migrating to 3.8 first\n",
      "Applying strategy: migrate_datasets\n",
      "Applying strategy: migrate_exchanges\n",
      "Applying strategy: migrate_datasets\n",
      "Applying strategy: migrate_exchanges\n",
      "Remove uncertainty data.\n",
      "Extracted 1 worksheets in 0.63 seconds\n",
      "Migrating to 3.8 first\n",
      "Applying strategy: migrate_datasets\n",
      "Applying strategy: migrate_exchanges\n",
      "Applying strategy: migrate_datasets\n",
      "Applying strategy: migrate_exchanges\n",
      "Remove uncertainty data.\n",
      "Extracted 1 worksheets in 0.04 seconds\n",
      "Migrating to 3.8 first\n",
      "Applying strategy: migrate_datasets\n",
      "Applying strategy: migrate_exchanges\n",
      "Applying strategy: migrate_datasets\n",
      "Applying strategy: migrate_exchanges\n",
      "Remove uncertainty data.\n",
      "Extracted 1 worksheets in 0.07 seconds\n",
      "Migrating to 3.8 first\n",
      "Applying strategy: migrate_datasets\n",
      "Applying strategy: migrate_exchanges\n",
      "Applying strategy: migrate_datasets\n",
      "Applying strategy: migrate_exchanges\n",
      "Remove uncertainty data.\n",
      "Extracted 1 worksheets in 0.16 seconds\n",
      "Remove uncertainty data.\n",
      "Extracted 1 worksheets in 0.07 seconds\n",
      "Remove uncertainty data.\n",
      "Extracted 2 worksheets in 0.12 seconds\n",
      "Migrating to 3.8 first\n",
      "Applying strategy: migrate_datasets\n",
      "Applying strategy: migrate_exchanges\n",
      "Applying strategy: migrate_datasets\n",
      "Applying strategy: migrate_exchanges\n",
      "Remove uncertainty data.\n",
      "Extracted 1 worksheets in 0.14 seconds\n",
      "Remove uncertainty data.\n",
      "Extracted 1 worksheets in 0.08 seconds\n",
      "Remove uncertainty data.\n",
      "Extracted 1 worksheets in 0.07 seconds\n",
      "Remove uncertainty data.\n",
      "Extracted 1 worksheets in 0.37 seconds\n",
      "Remove uncertainty data.\n",
      "Extracted 1 worksheets in 0.15 seconds\n",
      "Remove uncertainty data.\n",
      "Extracted 1 worksheets in 0.10 seconds\n",
      "Migrating to 3.8 first\n",
      "Applying strategy: migrate_datasets\n",
      "Applying strategy: migrate_exchanges\n",
      "Applying strategy: migrate_datasets\n",
      "Applying strategy: migrate_exchanges\n",
      "Remove uncertainty data.\n",
      "Data cached. It is advised to restart your workflow at this point.\n",
      "This allows premise to use the cached data instead, which results in\n",
      "a faster workflow.\n",
      "- Importing additional inventories\n",
      "\n",
      "//////////////// IMPORTING USER-DEFINED INVENTORIES ////////////////\n",
      "Extracted 1 worksheets in 0.07 seconds\n",
      "- Fetching IAM data\n",
      "Done!\n"
     ]
    }
   ],
   "source": [
    "ndb = NewDatabase(\n",
    "            scenarios=[\n",
    "                {\"model\":\"remind\", \"pathway\":\"SSP2-Base\", \"year\":2050},\n",
    "                {\"model\":\"remind\", \"pathway\":\"SSP2-PkBudg500\", \"year\":2050},\n",
    "            ],\n",
    "            source_db=\"ecoinvent 3.9.1 cutoff\", \n",
    "            source_version=\"3.9.1\",\n",
    "            key='tUePmX_S5B8ieZkkM7WUU2CnO8SmShwmAeWK9x2rTFo=',\n",
    "            additional_inventories= [ # <-- this is NEW\n",
    "                {\"filepath\": r\"C:\\Users\\hahnme_a\\Project Environments\\my_first_LCA\\data\\LCI_cars_premise.xlsx\",\n",
    "                 \"ecoinvent version\": \"3.9\"}, # <-- this is NEW\n",
    "            ] # <-- this is NEW\n",
    "                 )"
   ]
  },
  {
   "cell_type": "code",
   "execution_count": 8,
   "id": "2e39db8d-a6ad-4eae-aa0f-27be9bc8f869",
   "metadata": {},
   "outputs": [
    {
     "name": "stderr",
     "output_type": "stream",
     "text": [
      "Updating: electricity: 100%|███████████| 1/1 [05:36<00:00, 336.79s/it]\n"
     ]
    },
    {
     "name": "stdout",
     "output_type": "stream",
     "text": [
      "Done!\n",
      "\n"
     ]
    }
   ],
   "source": [
    "ndb.update('electricity')"
   ]
  },
  {
   "cell_type": "code",
   "execution_count": null,
   "id": "b42f59ca-f520-4185-a8af-5c18e7293302",
   "metadata": {},
   "outputs": [
    {
     "name": "stdout",
     "output_type": "stream",
     "text": [
      "Write new database(s) to Brightway.\n",
      "Running all checks...\n",
      "Running all checks...\n",
      "Database ecoinvent_cutoff_3.9_remind_SSP2-Base_2050 already exists: it will be overwritten.\n",
      "Vacuuming database \n"
     ]
    },
    {
     "name": "stderr",
     "output_type": "stream",
     "text": [
      "Writing activities to SQLite3 database:\n",
      "0% [##############################] 100% | ETA: 00:00:00\n",
      "Total time elapsed: 00:01:55\n"
     ]
    },
    {
     "name": "stdout",
     "output_type": "stream",
     "text": [
      "Title: Writing activities to SQLite3 database:\n",
      "  Started: 04/24/2024 10:26:25\n",
      "  Finished: 04/24/2024 10:28:20\n",
      "  Total time elapsed: 00:01:55\n",
      "  CPU %: 98.40\n",
      "  Memory %: 34.35\n"
     ]
    }
   ],
   "source": [
    "ndb.write_db_to_brightway()"
   ]
  },
  {
   "cell_type": "markdown",
   "id": "c35a7012-c22d-41e8-a323-473cf3b52fb4",
   "metadata": {},
   "source": [
    "## LCIA"
   ]
  },
  {
   "cell_type": "code",
   "execution_count": null,
   "id": "18410ee6-87ea-46a9-9b62-33d39f864bda",
   "metadata": {},
   "outputs": [],
   "source": []
  },
  {
   "cell_type": "code",
   "execution_count": null,
   "id": "46efd814-09d0-4f91-b42d-2ccdefb686b0",
   "metadata": {},
   "outputs": [],
   "source": []
  }
 ],
 "metadata": {
  "kernelspec": {
   "display_name": "Python 3 (ipykernel)",
   "language": "python",
   "name": "python3"
  },
  "language_info": {
   "codemirror_mode": {
    "name": "ipython",
    "version": 3
   },
   "file_extension": ".py",
   "mimetype": "text/x-python",
   "name": "python",
   "nbconvert_exporter": "python",
   "pygments_lexer": "ipython3",
   "version": "3.11.8"
  }
 },
 "nbformat": 4,
 "nbformat_minor": 5
}
